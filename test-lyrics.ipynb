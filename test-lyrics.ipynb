{
 "cells": [
  {
   "cell_type": "code",
   "execution_count": 23,
   "metadata": {},
   "outputs": [],
   "source": [
    "import pandas as pd \n",
    "from lyricsgenius import Genius\n",
    "import re"
   ]
  },
  {
   "cell_type": "code",
   "execution_count": 24,
   "metadata": {},
   "outputs": [],
   "source": [
    "token = 'TuC_0iYEPdKMjrk2sQPSprgQq_4XrPAJ4Udjed_31RqlkHo4EEcV1rp4rfYjhod3'"
   ]
  },
  {
   "cell_type": "code",
   "execution_count": 25,
   "metadata": {},
   "outputs": [],
   "source": [
    "csv = ['inlove.csv', 'heartbroken.csv', 'nonromance.csv']"
   ]
  },
  {
   "cell_type": "code",
   "execution_count": 26,
   "metadata": {},
   "outputs": [],
   "source": [
    "df = pd.concat(\n",
    "    map(pd.read_csv, csv), ignore_index=True)"
   ]
  },
  {
   "cell_type": "code",
   "execution_count": 27,
   "metadata": {},
   "outputs": [
    {
     "data": {
      "text/html": [
       "<div>\n",
       "<style scoped>\n",
       "    .dataframe tbody tr th:only-of-type {\n",
       "        vertical-align: middle;\n",
       "    }\n",
       "\n",
       "    .dataframe tbody tr th {\n",
       "        vertical-align: top;\n",
       "    }\n",
       "\n",
       "    .dataframe thead th {\n",
       "        text-align: right;\n",
       "    }\n",
       "</style>\n",
       "<table border=\"1\" class=\"dataframe\">\n",
       "  <thead>\n",
       "    <tr style=\"text-align: right;\">\n",
       "      <th></th>\n",
       "      <th>title</th>\n",
       "      <th>artist</th>\n",
       "      <th>mood</th>\n",
       "    </tr>\n",
       "  </thead>\n",
       "  <tbody>\n",
       "    <tr>\n",
       "      <th>0</th>\n",
       "      <td>Meet Me in Amsterdam</td>\n",
       "      <td>RINI</td>\n",
       "      <td>in love</td>\n",
       "    </tr>\n",
       "    <tr>\n",
       "      <th>1</th>\n",
       "      <td>Fly You to the Moon</td>\n",
       "      <td>Justin Vasquez</td>\n",
       "      <td>in love</td>\n",
       "    </tr>\n",
       "    <tr>\n",
       "      <th>2</th>\n",
       "      <td>double take</td>\n",
       "      <td>dhruv</td>\n",
       "      <td>in love</td>\n",
       "    </tr>\n",
       "    <tr>\n",
       "      <th>3</th>\n",
       "      <td>If I Ain't Got You</td>\n",
       "      <td>Alicia Keys</td>\n",
       "      <td>in love</td>\n",
       "    </tr>\n",
       "    <tr>\n",
       "      <th>4</th>\n",
       "      <td>Get You (feat. Kali Uchis)</td>\n",
       "      <td>Daniel Caesar</td>\n",
       "      <td>in love</td>\n",
       "    </tr>\n",
       "    <tr>\n",
       "      <th>...</th>\n",
       "      <td>...</td>\n",
       "      <td>...</td>\n",
       "      <td>...</td>\n",
       "    </tr>\n",
       "    <tr>\n",
       "      <th>295</th>\n",
       "      <td>Joy to the World</td>\n",
       "      <td>Shameik Moore</td>\n",
       "      <td>non-romance</td>\n",
       "    </tr>\n",
       "    <tr>\n",
       "      <th>296</th>\n",
       "      <td>Kids</td>\n",
       "      <td>MGMT</td>\n",
       "      <td>non-romance</td>\n",
       "    </tr>\n",
       "    <tr>\n",
       "      <th>297</th>\n",
       "      <td>jealousy, jealousy</td>\n",
       "      <td>Olivia Rodrigo</td>\n",
       "      <td>non-romance</td>\n",
       "    </tr>\n",
       "    <tr>\n",
       "      <th>298</th>\n",
       "      <td>What's New Scooby-Doo?</td>\n",
       "      <td>Simple Plan</td>\n",
       "      <td>non-romance</td>\n",
       "    </tr>\n",
       "    <tr>\n",
       "      <th>299</th>\n",
       "      <td>Unwritten</td>\n",
       "      <td>Natasha Bedingfield</td>\n",
       "      <td>non-romance</td>\n",
       "    </tr>\n",
       "  </tbody>\n",
       "</table>\n",
       "<p>300 rows × 3 columns</p>\n",
       "</div>"
      ],
      "text/plain": [
       "                          title               artist         mood\n",
       "0          Meet Me in Amsterdam                 RINI      in love\n",
       "1           Fly You to the Moon       Justin Vasquez      in love\n",
       "2                   double take                dhruv      in love\n",
       "3            If I Ain't Got You          Alicia Keys      in love\n",
       "4    Get You (feat. Kali Uchis)        Daniel Caesar      in love\n",
       "..                          ...                  ...          ...\n",
       "295            Joy to the World        Shameik Moore  non-romance\n",
       "296                        Kids                 MGMT  non-romance\n",
       "297          jealousy, jealousy       Olivia Rodrigo  non-romance\n",
       "298      What's New Scooby-Doo?          Simple Plan  non-romance\n",
       "299                   Unwritten  Natasha Bedingfield  non-romance\n",
       "\n",
       "[300 rows x 3 columns]"
      ]
     },
     "execution_count": 27,
     "metadata": {},
     "output_type": "execute_result"
    }
   ],
   "source": [
    "df"
   ]
  },
  {
   "cell_type": "code",
   "execution_count": 28,
   "metadata": {},
   "outputs": [],
   "source": [
    "genius = Genius(token)"
   ]
  },
  {
   "cell_type": "code",
   "execution_count": 29,
   "metadata": {},
   "outputs": [
    {
     "name": "stdout",
     "output_type": "stream",
     "text": [
      "Searching for \"Meet Me in Amsterdam\" by RINI...\n",
      "Done.\n"
     ]
    }
   ],
   "source": [
    "song = genius.search_song(\"Meet Me in Amsterdam\", \"RINI\")\n",
    "lyrics = song.lyrics"
   ]
  },
  {
   "cell_type": "code",
   "execution_count": 37,
   "metadata": {},
   "outputs": [],
   "source": [
    "lyrics = re.sub(\"[\\(\\[].*?[\\)\\]]\", \"\", lyrics)"
   ]
  },
  {
   "cell_type": "code",
   "execution_count": 38,
   "metadata": {},
   "outputs": [],
   "source": [
    "lyrics = re.sub(\"\\n\", \" \", lyrics)"
   ]
  },
  {
   "cell_type": "code",
   "execution_count": 39,
   "metadata": {},
   "outputs": [
    {
     "data": {
      "text/plain": [
       "'Meet Me in Amsterdam Lyrics I would sail across the world Row this boat from dusk till dawn To a place where we belong Girl your body is calling me   There ain’t no sunshine, no sunshine Where I was before But I found the Love the warmth in your arms  Won’t you come closer, let it take over I don’t need anything, I just want you   When I saw her in my dreams Never thought it meant a thing Till I felt and touched her skin When she smiles, my knees go weak   There ain’t no sunshine, no sunshine Where I was before But I found the Love the warmth in your arms   Won’t you come closer, let it take over I don’t need anything, I just want you   If there is a next time If there is a next time Meet me in Amsterdam Meet me in Amsterdam  Meet me in Amsterdam Meet me in Amsterdam Meet me in Amsterdam Meet me in Amsterdam You might also likeMeet me in Amsterdam Meet me in Amsterdam Meet me in Amsterdam Meet me in AmsterdamEmbed'"
      ]
     },
     "execution_count": 39,
     "metadata": {},
     "output_type": "execute_result"
    }
   ],
   "source": [
    "lyrics"
   ]
  },
  {
   "cell_type": "code",
   "execution_count": 49,
   "metadata": {},
   "outputs": [],
   "source": [
    "def test(title, artist):\n",
    "    song = genius.search_song(title, artist)\n",
    "    lyrics = song.lyrics\n",
    "    lyrics = re.sub(\"[\\(\\[].*?[\\)\\]]\", \"\", lyrics)\n",
    "    lyrics = re.sub(\"\\n\", \" \", lyrics)\n",
    "    return lyrics"
   ]
  },
  {
   "cell_type": "code",
   "execution_count": 57,
   "metadata": {},
   "outputs": [
    {
     "ename": "TypeError",
     "evalue": "test() missing 2 required positional arguments: 'title' and 'artist'",
     "output_type": "error",
     "traceback": [
      "\u001b[0;31m---------------------------------------------------------------------------\u001b[0m",
      "\u001b[0;31mTypeError\u001b[0m                                 Traceback (most recent call last)",
      "\u001b[1;32m/Users/tashatanarugsachock/Documents/ISE/machine learning or deep learning/final project/test-lyrics.ipynb Cell 12\u001b[0m in \u001b[0;36m<module>\u001b[0;34m\u001b[0m\n\u001b[0;32m----> <a href='vscode-notebook-cell:/Users/tashatanarugsachock/Documents/ISE/machine%20learning%20or%20deep%20learning/final%20project/test-lyrics.ipynb#X13sZmlsZQ%3D%3D?line=0'>1</a>\u001b[0m df[\u001b[39m'\u001b[39m\u001b[39mtest\u001b[39m\u001b[39m'\u001b[39m] \u001b[39m=\u001b[39m test()\n",
      "\u001b[0;31mTypeError\u001b[0m: test() missing 2 required positional arguments: 'title' and 'artist'"
     ]
    }
   ],
   "source": [
    "df['test'] = test(title=df['title'], artist=df['artist'])"
   ]
  },
  {
   "cell_type": "code",
   "execution_count": 54,
   "metadata": {},
   "outputs": [
    {
     "data": {
      "text/html": [
       "<div>\n",
       "<style scoped>\n",
       "    .dataframe tbody tr th:only-of-type {\n",
       "        vertical-align: middle;\n",
       "    }\n",
       "\n",
       "    .dataframe tbody tr th {\n",
       "        vertical-align: top;\n",
       "    }\n",
       "\n",
       "    .dataframe thead th {\n",
       "        text-align: right;\n",
       "    }\n",
       "</style>\n",
       "<table border=\"1\" class=\"dataframe\">\n",
       "  <thead>\n",
       "    <tr style=\"text-align: right;\">\n",
       "      <th></th>\n",
       "      <th>title</th>\n",
       "      <th>artist</th>\n",
       "      <th>mood</th>\n",
       "      <th>test</th>\n",
       "    </tr>\n",
       "  </thead>\n",
       "  <tbody>\n",
       "    <tr>\n",
       "      <th>0</th>\n",
       "      <td>Meet Me in Amsterdam</td>\n",
       "      <td>RINI</td>\n",
       "      <td>in love</td>\n",
       "      <td>Meet Me in Amsterdam</td>\n",
       "    </tr>\n",
       "    <tr>\n",
       "      <th>1</th>\n",
       "      <td>Fly You to the Moon</td>\n",
       "      <td>Justin Vasquez</td>\n",
       "      <td>in love</td>\n",
       "      <td>Fly You to the Moon</td>\n",
       "    </tr>\n",
       "    <tr>\n",
       "      <th>2</th>\n",
       "      <td>double take</td>\n",
       "      <td>dhruv</td>\n",
       "      <td>in love</td>\n",
       "      <td>double take</td>\n",
       "    </tr>\n",
       "    <tr>\n",
       "      <th>3</th>\n",
       "      <td>If I Ain't Got You</td>\n",
       "      <td>Alicia Keys</td>\n",
       "      <td>in love</td>\n",
       "      <td>If I Ain't Got You</td>\n",
       "    </tr>\n",
       "    <tr>\n",
       "      <th>4</th>\n",
       "      <td>Get You (feat. Kali Uchis)</td>\n",
       "      <td>Daniel Caesar</td>\n",
       "      <td>in love</td>\n",
       "      <td>Get You (feat. Kali Uchis)</td>\n",
       "    </tr>\n",
       "    <tr>\n",
       "      <th>...</th>\n",
       "      <td>...</td>\n",
       "      <td>...</td>\n",
       "      <td>...</td>\n",
       "      <td>...</td>\n",
       "    </tr>\n",
       "    <tr>\n",
       "      <th>295</th>\n",
       "      <td>Joy to the World</td>\n",
       "      <td>Shameik Moore</td>\n",
       "      <td>non-romance</td>\n",
       "      <td>Joy to the World</td>\n",
       "    </tr>\n",
       "    <tr>\n",
       "      <th>296</th>\n",
       "      <td>Kids</td>\n",
       "      <td>MGMT</td>\n",
       "      <td>non-romance</td>\n",
       "      <td>Kids</td>\n",
       "    </tr>\n",
       "    <tr>\n",
       "      <th>297</th>\n",
       "      <td>jealousy, jealousy</td>\n",
       "      <td>Olivia Rodrigo</td>\n",
       "      <td>non-romance</td>\n",
       "      <td>jealousy, jealousy</td>\n",
       "    </tr>\n",
       "    <tr>\n",
       "      <th>298</th>\n",
       "      <td>What's New Scooby-Doo?</td>\n",
       "      <td>Simple Plan</td>\n",
       "      <td>non-romance</td>\n",
       "      <td>What's New Scooby-Doo?</td>\n",
       "    </tr>\n",
       "    <tr>\n",
       "      <th>299</th>\n",
       "      <td>Unwritten</td>\n",
       "      <td>Natasha Bedingfield</td>\n",
       "      <td>non-romance</td>\n",
       "      <td>Unwritten</td>\n",
       "    </tr>\n",
       "  </tbody>\n",
       "</table>\n",
       "<p>300 rows × 4 columns</p>\n",
       "</div>"
      ],
      "text/plain": [
       "                          title               artist         mood  \\\n",
       "0          Meet Me in Amsterdam                 RINI      in love   \n",
       "1           Fly You to the Moon       Justin Vasquez      in love   \n",
       "2                   double take                dhruv      in love   \n",
       "3            If I Ain't Got You          Alicia Keys      in love   \n",
       "4    Get You (feat. Kali Uchis)        Daniel Caesar      in love   \n",
       "..                          ...                  ...          ...   \n",
       "295            Joy to the World        Shameik Moore  non-romance   \n",
       "296                        Kids                 MGMT  non-romance   \n",
       "297          jealousy, jealousy       Olivia Rodrigo  non-romance   \n",
       "298      What's New Scooby-Doo?          Simple Plan  non-romance   \n",
       "299                   Unwritten  Natasha Bedingfield  non-romance   \n",
       "\n",
       "                           test  \n",
       "0          Meet Me in Amsterdam  \n",
       "1           Fly You to the Moon  \n",
       "2                   double take  \n",
       "3            If I Ain't Got You  \n",
       "4    Get You (feat. Kali Uchis)  \n",
       "..                          ...  \n",
       "295            Joy to the World  \n",
       "296                        Kids  \n",
       "297          jealousy, jealousy  \n",
       "298      What's New Scooby-Doo?  \n",
       "299                   Unwritten  \n",
       "\n",
       "[300 rows x 4 columns]"
      ]
     },
     "execution_count": 54,
     "metadata": {},
     "output_type": "execute_result"
    }
   ],
   "source": [
    "df"
   ]
  },
  {
   "cell_type": "code",
   "execution_count": null,
   "metadata": {},
   "outputs": [],
   "source": []
  }
 ],
 "metadata": {
  "kernelspec": {
   "display_name": "Python 3.9.9 ('base')",
   "language": "python",
   "name": "python3"
  },
  "language_info": {
   "codemirror_mode": {
    "name": "ipython",
    "version": 3
   },
   "file_extension": ".py",
   "mimetype": "text/x-python",
   "name": "python",
   "nbconvert_exporter": "python",
   "pygments_lexer": "ipython3",
   "version": "3.9.9"
  },
  "orig_nbformat": 4,
  "vscode": {
   "interpreter": {
    "hash": "3d597f4c481aa0f25dceb95d2a0067e73c0966dcbd003d741d821a7208527ecf"
   }
  }
 },
 "nbformat": 4,
 "nbformat_minor": 2
}
